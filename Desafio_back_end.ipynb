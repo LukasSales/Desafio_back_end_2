{
  "cells": [
    {
      "cell_type": "markdown",
      "metadata": {
        "id": "view-in-github",
        "colab_type": "text"
      },
      "source": [
        "<a href=\"https://colab.research.google.com/github/LukasSales/Desafio_back_end_2/blob/feature%2Fcarregamento-e-limpeza/Desafio_back_end.ipynb\" target=\"_parent\"><img src=\"https://colab.research.google.com/assets/colab-badge.svg\" alt=\"Open In Colab\"/></a>"
      ]
    },
    {
      "cell_type": "markdown",
      "metadata": {
        "id": "1eeOO8Gekleo"
      },
      "source": [
        "#Desafio_2"
      ]
    },
    {
      "cell_type": "markdown",
      "metadata": {
        "id": "UjWcToN2YyGk"
      },
      "source": [
        "##Bibliotecas Necessárias"
      ]
    },
    {
      "cell_type": "code",
      "execution_count": 2,
      "metadata": {
        "colab": {
          "base_uri": "https://localhost:8080/"
        },
        "id": "hCf-UQfaYsyE",
        "outputId": "2d670495-6a39-4299-8e3d-30c9c88279df"
      },
      "outputs": [
        {
          "output_type": "stream",
          "name": "stdout",
          "text": [
            "Requirement already satisfied: scikit-learn in /usr/local/lib/python3.10/dist-packages (1.5.2)\n",
            "Requirement already satisfied: numpy>=1.19.5 in /usr/local/lib/python3.10/dist-packages (from scikit-learn) (1.26.4)\n",
            "Requirement already satisfied: scipy>=1.6.0 in /usr/local/lib/python3.10/dist-packages (from scikit-learn) (1.13.1)\n",
            "Requirement already satisfied: joblib>=1.2.0 in /usr/local/lib/python3.10/dist-packages (from scikit-learn) (1.4.2)\n",
            "Requirement already satisfied: threadpoolctl>=3.1.0 in /usr/local/lib/python3.10/dist-packages (from scikit-learn) (3.5.0)\n",
            "[nltk_data] Downloading package brown to /root/nltk_data...\n",
            "[nltk_data]   Unzipping corpora/brown.zip.\n",
            "[nltk_data] Downloading package punkt to /root/nltk_data...\n",
            "[nltk_data]   Unzipping tokenizers/punkt.zip.\n",
            "[nltk_data] Downloading package wordnet to /root/nltk_data...\n",
            "[nltk_data] Downloading package averaged_perceptron_tagger to\n",
            "[nltk_data]     /root/nltk_data...\n",
            "[nltk_data]   Unzipping taggers/averaged_perceptron_tagger.zip.\n",
            "[nltk_data] Downloading package conll2000 to /root/nltk_data...\n",
            "[nltk_data]   Unzipping corpora/conll2000.zip.\n",
            "[nltk_data] Downloading package movie_reviews to /root/nltk_data...\n",
            "[nltk_data]   Unzipping corpora/movie_reviews.zip.\n",
            "Finished.\n"
          ]
        }
      ],
      "source": [
        "import pandas as pd\n",
        "import numpy as np\n",
        "import matplotlib.pyplot as plt\n",
        "import seaborn as sns\n",
        "import kagglehub\n",
        "import os\n",
        "import xgboost as xgb\n",
        "\n",
        "!pip install --upgrade scikit-learn\n",
        "!python -m textblob.download_corpora\n",
        "\n",
        "from sklearn.preprocessing import MultiLabelBinarizer, OneHotEncoder, StandardScaler\n",
        "from sklearn.model_selection import train_test_split, GridSearchCV, StratifiedKFold, cross_val_score\n",
        "from sklearn.linear_model import LogisticRegression\n",
        "from sklearn.ensemble import RandomForestClassifier\n",
        "from sklearn.neighbors import KNeighborsClassifier\n",
        "from sklearn.metrics import (\n",
        "    accuracy_score, precision_score, recall_score, f1_score,\n",
        "    classification_report, confusion_matrix\n",
        ")\n",
        "\n",
        "# Configurar visualizações\n",
        "%matplotlib inline\n",
        "sns.set(style=\"whitegrid\")"
      ]
    },
    {
      "cell_type": "markdown",
      "metadata": {
        "id": "Q0LGaSAsY8R8"
      },
      "source": [
        "##Carregar o Dataset"
      ]
    },
    {
      "cell_type": "code",
      "execution_count": 3,
      "metadata": {
        "colab": {
          "base_uri": "https://localhost:8080/"
        },
        "id": "5iswjMciZGmT",
        "outputId": "eea442f2-510e-4490-dd25-b766daf5225d"
      },
      "outputs": [
        {
          "output_type": "stream",
          "name": "stdout",
          "text": [
            "Downloading from https://www.kaggle.com/api/v1/datasets/download/pypiahmad/goodreads-book-reviews1?dataset_version_number=1...\n"
          ]
        },
        {
          "output_type": "stream",
          "name": "stderr",
          "text": [
            "100%|██████████| 8.14G/8.14G [03:43<00:00, 39.1MB/s]"
          ]
        },
        {
          "output_type": "stream",
          "name": "stdout",
          "text": [
            "Extracting files...\n"
          ]
        },
        {
          "output_type": "stream",
          "name": "stderr",
          "text": [
            "\n"
          ]
        },
        {
          "output_type": "stream",
          "name": "stdout",
          "text": [
            "Path to dataset files: /root/.cache/kagglehub/datasets/pypiahmad/goodreads-book-reviews1/versions/1\n"
          ]
        }
      ],
      "source": [
        "# Download latest version\n",
        "path = kagglehub.dataset_download(\"pypiahmad/goodreads-book-reviews1\")\n",
        "\n",
        "print(\"Path to dataset files:\", path)"
      ]
    },
    {
      "cell_type": "code",
      "execution_count": 4,
      "metadata": {
        "colab": {
          "base_uri": "https://localhost:8080/"
        },
        "id": "QyqlNjI5FlpL",
        "outputId": "ede47334-861c-4ede-e46a-803c014ac3fe"
      },
      "outputs": [
        {
          "output_type": "stream",
          "name": "stdout",
          "text": [
            "Caminho para os arquivos do dataset: /root/.cache/kagglehub/datasets/pypiahmad/goodreads-book-reviews1/versions/1\n",
            "/root/.cache/kagglehub/datasets/pypiahmad/goodreads-book-reviews1/versions/1/book_clubs.json\n",
            "/root/.cache/kagglehub/datasets/pypiahmad/goodreads-book-reviews1/versions/1/goodreads_books.json\n",
            "/root/.cache/kagglehub/datasets/pypiahmad/goodreads-book-reviews1/versions/1/goodreads_book_works.json\n",
            "/root/.cache/kagglehub/datasets/pypiahmad/goodreads-book-reviews1/versions/1/goodreads_book_series.json\n",
            "/root/.cache/kagglehub/datasets/pypiahmad/goodreads-book-reviews1/versions/1/download.ipynb\n",
            "/root/.cache/kagglehub/datasets/pypiahmad/goodreads-book-reviews1/versions/1/goodreads_reviews_dedup.json\n",
            "/root/.cache/kagglehub/datasets/pypiahmad/goodreads-book-reviews1/versions/1/goodreads_interactions.csv\n",
            "/root/.cache/kagglehub/datasets/pypiahmad/goodreads-book-reviews1/versions/1/reviews.ipynb\n",
            "/root/.cache/kagglehub/datasets/pypiahmad/goodreads-book-reviews1/versions/1/goodreads_book_genres_initial.json\n",
            "/root/.cache/kagglehub/datasets/pypiahmad/goodreads-book-reviews1/versions/1/goodreads_book_authors.json\n",
            "/root/.cache/kagglehub/datasets/pypiahmad/goodreads-book-reviews1/versions/1/statistics.ipynb\n",
            "/root/.cache/kagglehub/datasets/pypiahmad/goodreads-book-reviews1/versions/1/samples.ipynb\n",
            "/root/.cache/kagglehub/datasets/pypiahmad/goodreads-book-reviews1/versions/1/distributions.ipynb\n"
          ]
        }
      ],
      "source": [
        "print(\"Caminho para os arquivos do dataset:\", path)\n",
        "\n",
        "# Listar todos os arquivos e diretórios\n",
        "for root, dirs, files in os.walk(path):\n",
        "    for filename in files:\n",
        "        print(os.path.join(root, filename))"
      ]
    },
    {
      "cell_type": "markdown",
      "metadata": {
        "id": "kzn9nSc8bh3k"
      },
      "source": [
        "###Carregar o Dataset no DataFrame"
      ]
    },
    {
      "cell_type": "code",
      "execution_count": 5,
      "metadata": {
        "id": "aTQZPMAqldMU"
      },
      "outputs": [],
      "source": [
        "n = 100000  # Número de linhas a serem lidas"
      ]
    },
    {
      "cell_type": "code",
      "execution_count": 6,
      "metadata": {
        "id": "H8y29bzAbl60"
      },
      "outputs": [],
      "source": [
        "json_file = os.path.join(path, 'goodreads_reviews_dedup.json')\n",
        "\n",
        "# Carregar uma amostra do arquivo para evitar sobrecarregar a memória\n",
        "df = pd.read_json(json_file, lines=True, chunksize=n)\n",
        "df = next(df)"
      ]
    },
    {
      "cell_type": "code",
      "execution_count": 7,
      "metadata": {
        "id": "xE4fND18jMrt"
      },
      "outputs": [],
      "source": [
        "json_file_books = os.path.join(path, 'goodreads_books.json')\n",
        "\n",
        "# Carregar o arquivo\n",
        "df_books = pd.read_json(json_file_books, lines=True, chunksize=n)\n",
        "df_books = next(df_books)"
      ]
    },
    {
      "cell_type": "code",
      "execution_count": 8,
      "metadata": {
        "id": "5uNhAkdb38nW"
      },
      "outputs": [],
      "source": [
        "json_file_authors = os.path.join(path, 'goodreads_book_authors.json')\n",
        "\n",
        "# Carregar o arquivo\n",
        "df_authors = pd.read_json(json_file_authors, lines=True, chunksize=n)\n",
        "df_authors = next(df_authors)"
      ]
    },
    {
      "cell_type": "code",
      "execution_count": 9,
      "metadata": {
        "colab": {
          "base_uri": "https://localhost:8080/"
        },
        "id": "9H4GgIh9jPKN",
        "outputId": "385c3478-bc04-49b3-ec8e-1cc414610e5d"
      },
      "outputs": [
        {
          "output_type": "stream",
          "name": "stdout",
          "text": [
            "Index(['isbn', 'text_reviews_count', 'series', 'country_code', 'language_code',\n",
            "       'popular_shelves', 'asin', 'is_ebook', 'average_rating', 'kindle_asin',\n",
            "       'similar_books', 'description', 'format', 'link', 'authors',\n",
            "       'publisher', 'num_pages', 'publication_day', 'isbn13',\n",
            "       'publication_month', 'edition_information', 'publication_year', 'url',\n",
            "       'image_url', 'book_id', 'ratings_count', 'work_id', 'title',\n",
            "       'title_without_series'],\n",
            "      dtype='object')\n"
          ]
        }
      ],
      "source": [
        "print(df_books.columns)"
      ]
    },
    {
      "cell_type": "code",
      "execution_count": 10,
      "metadata": {
        "colab": {
          "base_uri": "https://localhost:8080/"
        },
        "id": "8qtdlFlA4LGu",
        "outputId": "fed93407-0797-4b57-b004-3c51adfeeeb9"
      },
      "outputs": [
        {
          "output_type": "stream",
          "name": "stdout",
          "text": [
            "Estrutura do DataFrame de Autores:\n",
            "   average_rating  author_id  text_reviews_count              name  \\\n",
            "0            3.98     604031                   7  Ronald J. Fields   \n",
            "1            4.08     626222               28716     Anita Diamant   \n",
            "2            3.92      10333                5075    Barbara Hambly   \n",
            "3            3.68       9212               36262   Jennifer Weiner   \n",
            "4            3.82     149918                  96     Nigel Pennick   \n",
            "\n",
            "   ratings_count  \n",
            "0             49  \n",
            "1         546796  \n",
            "2         122118  \n",
            "3         888522  \n",
            "4           1740  \n",
            "Index(['average_rating', 'author_id', 'text_reviews_count', 'name',\n",
            "       'ratings_count'],\n",
            "      dtype='object')\n"
          ]
        }
      ],
      "source": [
        "print(\"Estrutura do DataFrame de Autores:\")\n",
        "print(df_authors.head())\n",
        "print(df_authors.columns)"
      ]
    },
    {
      "cell_type": "code",
      "execution_count": 11,
      "metadata": {
        "id": "ejoeLRCw-FH0"
      },
      "outputs": [],
      "source": [
        "df_authors['author_id'] = df_authors['author_id'].astype(str)"
      ]
    },
    {
      "cell_type": "code",
      "execution_count": 12,
      "metadata": {
        "colab": {
          "base_uri": "https://localhost:8080/"
        },
        "id": "O3tADWyfmhe8",
        "outputId": "e90fdd7f-48b4-49fa-c695-d5dfa660df99"
      },
      "outputs": [
        {
          "output_type": "stream",
          "name": "stdout",
          "text": [
            "int64\n",
            "int64\n"
          ]
        }
      ],
      "source": [
        "#verificar os tipos antes do merge\n",
        "print(df['book_id'].dtype)\n",
        "print(df_books['book_id'].dtype)"
      ]
    },
    {
      "cell_type": "code",
      "execution_count": 13,
      "metadata": {
        "colab": {
          "base_uri": "https://localhost:8080/"
        },
        "id": "-tFjJodgmlIs",
        "outputId": "9ffe9a3e-0ecb-448f-fa2b-fb387915a7cc"
      },
      "outputs": [
        {
          "output_type": "stream",
          "name": "stdout",
          "text": [
            "Total de linhas após o merge: 4549\n"
          ]
        }
      ],
      "source": [
        "# Selecionar apenas as colunas necessárias do DataFrame de livros\n",
        "columns_books = ['book_id', 'title', 'authors', 'popular_shelves']\n",
        "df_books_selected = df_books[columns_books]\n",
        "\n",
        "# Realizar o merge interno para evitar NaNs\n",
        "df = pd.merge(\n",
        "    df,\n",
        "    df_books,\n",
        "    on='book_id',\n",
        "    how='inner'\n",
        ")\n",
        "print(f\"Total de linhas após o merge: {df.shape[0]}\")"
      ]
    },
    {
      "cell_type": "markdown",
      "metadata": {
        "id": "Jl6FMEsgbpNj"
      },
      "source": [
        "####Explorar o DataFrame"
      ]
    },
    {
      "cell_type": "code",
      "execution_count": 14,
      "metadata": {
        "colab": {
          "base_uri": "https://localhost:8080/",
          "height": 1000
        },
        "id": "Pm-GK8uYbryU",
        "outputId": "180fe102-85ea-424f-962f-465c119f839f"
      },
      "outputs": [
        {
          "output_type": "stream",
          "name": "stdout",
          "text": [
            "<class 'pandas.core.frame.DataFrame'>\n",
            "RangeIndex: 4549 entries, 0 to 4548\n",
            "Data columns (total 39 columns):\n",
            " #   Column                Non-Null Count  Dtype \n",
            "---  ------                --------------  ----- \n",
            " 0   user_id               4549 non-null   object\n",
            " 1   book_id               4549 non-null   int64 \n",
            " 2   review_id             4549 non-null   object\n",
            " 3   rating                4549 non-null   int64 \n",
            " 4   review_text           4549 non-null   object\n",
            " 5   date_added            4549 non-null   object\n",
            " 6   date_updated          4549 non-null   object\n",
            " 7   read_at               4549 non-null   object\n",
            " 8   started_at            4549 non-null   object\n",
            " 9   n_votes               4549 non-null   int64 \n",
            " 10  n_comments            4549 non-null   int64 \n",
            " 11  isbn                  4549 non-null   object\n",
            " 12  text_reviews_count    4549 non-null   object\n",
            " 13  series                4549 non-null   object\n",
            " 14  country_code          4549 non-null   object\n",
            " 15  language_code         4549 non-null   object\n",
            " 16  popular_shelves       4549 non-null   object\n",
            " 17  asin                  4549 non-null   object\n",
            " 18  is_ebook              4549 non-null   object\n",
            " 19  average_rating        4549 non-null   object\n",
            " 20  kindle_asin           4549 non-null   object\n",
            " 21  similar_books         4549 non-null   object\n",
            " 22  description           4549 non-null   object\n",
            " 23  format                4549 non-null   object\n",
            " 24  link                  4549 non-null   object\n",
            " 25  authors               4549 non-null   object\n",
            " 26  publisher             4549 non-null   object\n",
            " 27  num_pages             4549 non-null   object\n",
            " 28  publication_day       4549 non-null   object\n",
            " 29  isbn13                4549 non-null   object\n",
            " 30  publication_month     4549 non-null   object\n",
            " 31  edition_information   4549 non-null   object\n",
            " 32  publication_year      4549 non-null   object\n",
            " 33  url                   4549 non-null   object\n",
            " 34  image_url             4549 non-null   object\n",
            " 35  ratings_count         4549 non-null   object\n",
            " 36  work_id               4549 non-null   object\n",
            " 37  title                 4549 non-null   object\n",
            " 38  title_without_series  4549 non-null   object\n",
            "dtypes: int64(4), object(35)\n",
            "memory usage: 1.4+ MB\n"
          ]
        },
        {
          "output_type": "execute_result",
          "data": {
            "text/plain": [
              "            book_id       rating      n_votes   n_comments\n",
              "count  4.549000e+03  4549.000000  4549.000000  4549.000000\n",
              "mean   1.187329e+07     3.699275     0.917344     0.204001\n",
              "std    1.005823e+07     1.236413     5.324867     1.055693\n",
              "min    4.200000e+02     0.000000     0.000000     0.000000\n",
              "25%    9.725280e+05     3.000000     0.000000     0.000000\n",
              "50%    1.119362e+07     4.000000     0.000000     0.000000\n",
              "75%    1.877436e+07     5.000000     1.000000     0.000000\n",
              "max    3.623267e+07     5.000000   280.000000    43.000000"
            ],
            "text/html": [
              "\n",
              "  <div id=\"df-e48707bd-ea26-452d-b35d-b30e71f7f993\" class=\"colab-df-container\">\n",
              "    <div>\n",
              "<style scoped>\n",
              "    .dataframe tbody tr th:only-of-type {\n",
              "        vertical-align: middle;\n",
              "    }\n",
              "\n",
              "    .dataframe tbody tr th {\n",
              "        vertical-align: top;\n",
              "    }\n",
              "\n",
              "    .dataframe thead th {\n",
              "        text-align: right;\n",
              "    }\n",
              "</style>\n",
              "<table border=\"1\" class=\"dataframe\">\n",
              "  <thead>\n",
              "    <tr style=\"text-align: right;\">\n",
              "      <th></th>\n",
              "      <th>book_id</th>\n",
              "      <th>rating</th>\n",
              "      <th>n_votes</th>\n",
              "      <th>n_comments</th>\n",
              "    </tr>\n",
              "  </thead>\n",
              "  <tbody>\n",
              "    <tr>\n",
              "      <th>count</th>\n",
              "      <td>4.549000e+03</td>\n",
              "      <td>4549.000000</td>\n",
              "      <td>4549.000000</td>\n",
              "      <td>4549.000000</td>\n",
              "    </tr>\n",
              "    <tr>\n",
              "      <th>mean</th>\n",
              "      <td>1.187329e+07</td>\n",
              "      <td>3.699275</td>\n",
              "      <td>0.917344</td>\n",
              "      <td>0.204001</td>\n",
              "    </tr>\n",
              "    <tr>\n",
              "      <th>std</th>\n",
              "      <td>1.005823e+07</td>\n",
              "      <td>1.236413</td>\n",
              "      <td>5.324867</td>\n",
              "      <td>1.055693</td>\n",
              "    </tr>\n",
              "    <tr>\n",
              "      <th>min</th>\n",
              "      <td>4.200000e+02</td>\n",
              "      <td>0.000000</td>\n",
              "      <td>0.000000</td>\n",
              "      <td>0.000000</td>\n",
              "    </tr>\n",
              "    <tr>\n",
              "      <th>25%</th>\n",
              "      <td>9.725280e+05</td>\n",
              "      <td>3.000000</td>\n",
              "      <td>0.000000</td>\n",
              "      <td>0.000000</td>\n",
              "    </tr>\n",
              "    <tr>\n",
              "      <th>50%</th>\n",
              "      <td>1.119362e+07</td>\n",
              "      <td>4.000000</td>\n",
              "      <td>0.000000</td>\n",
              "      <td>0.000000</td>\n",
              "    </tr>\n",
              "    <tr>\n",
              "      <th>75%</th>\n",
              "      <td>1.877436e+07</td>\n",
              "      <td>5.000000</td>\n",
              "      <td>1.000000</td>\n",
              "      <td>0.000000</td>\n",
              "    </tr>\n",
              "    <tr>\n",
              "      <th>max</th>\n",
              "      <td>3.623267e+07</td>\n",
              "      <td>5.000000</td>\n",
              "      <td>280.000000</td>\n",
              "      <td>43.000000</td>\n",
              "    </tr>\n",
              "  </tbody>\n",
              "</table>\n",
              "</div>\n",
              "    <div class=\"colab-df-buttons\">\n",
              "\n",
              "  <div class=\"colab-df-container\">\n",
              "    <button class=\"colab-df-convert\" onclick=\"convertToInteractive('df-e48707bd-ea26-452d-b35d-b30e71f7f993')\"\n",
              "            title=\"Convert this dataframe to an interactive table.\"\n",
              "            style=\"display:none;\">\n",
              "\n",
              "  <svg xmlns=\"http://www.w3.org/2000/svg\" height=\"24px\" viewBox=\"0 -960 960 960\">\n",
              "    <path d=\"M120-120v-720h720v720H120Zm60-500h600v-160H180v160Zm220 220h160v-160H400v160Zm0 220h160v-160H400v160ZM180-400h160v-160H180v160Zm440 0h160v-160H620v160ZM180-180h160v-160H180v160Zm440 0h160v-160H620v160Z\"/>\n",
              "  </svg>\n",
              "    </button>\n",
              "\n",
              "  <style>\n",
              "    .colab-df-container {\n",
              "      display:flex;\n",
              "      gap: 12px;\n",
              "    }\n",
              "\n",
              "    .colab-df-convert {\n",
              "      background-color: #E8F0FE;\n",
              "      border: none;\n",
              "      border-radius: 50%;\n",
              "      cursor: pointer;\n",
              "      display: none;\n",
              "      fill: #1967D2;\n",
              "      height: 32px;\n",
              "      padding: 0 0 0 0;\n",
              "      width: 32px;\n",
              "    }\n",
              "\n",
              "    .colab-df-convert:hover {\n",
              "      background-color: #E2EBFA;\n",
              "      box-shadow: 0px 1px 2px rgba(60, 64, 67, 0.3), 0px 1px 3px 1px rgba(60, 64, 67, 0.15);\n",
              "      fill: #174EA6;\n",
              "    }\n",
              "\n",
              "    .colab-df-buttons div {\n",
              "      margin-bottom: 4px;\n",
              "    }\n",
              "\n",
              "    [theme=dark] .colab-df-convert {\n",
              "      background-color: #3B4455;\n",
              "      fill: #D2E3FC;\n",
              "    }\n",
              "\n",
              "    [theme=dark] .colab-df-convert:hover {\n",
              "      background-color: #434B5C;\n",
              "      box-shadow: 0px 1px 3px 1px rgba(0, 0, 0, 0.15);\n",
              "      filter: drop-shadow(0px 1px 2px rgba(0, 0, 0, 0.3));\n",
              "      fill: #FFFFFF;\n",
              "    }\n",
              "  </style>\n",
              "\n",
              "    <script>\n",
              "      const buttonEl =\n",
              "        document.querySelector('#df-e48707bd-ea26-452d-b35d-b30e71f7f993 button.colab-df-convert');\n",
              "      buttonEl.style.display =\n",
              "        google.colab.kernel.accessAllowed ? 'block' : 'none';\n",
              "\n",
              "      async function convertToInteractive(key) {\n",
              "        const element = document.querySelector('#df-e48707bd-ea26-452d-b35d-b30e71f7f993');\n",
              "        const dataTable =\n",
              "          await google.colab.kernel.invokeFunction('convertToInteractive',\n",
              "                                                    [key], {});\n",
              "        if (!dataTable) return;\n",
              "\n",
              "        const docLinkHtml = 'Like what you see? Visit the ' +\n",
              "          '<a target=\"_blank\" href=https://colab.research.google.com/notebooks/data_table.ipynb>data table notebook</a>'\n",
              "          + ' to learn more about interactive tables.';\n",
              "        element.innerHTML = '';\n",
              "        dataTable['output_type'] = 'display_data';\n",
              "        await google.colab.output.renderOutput(dataTable, element);\n",
              "        const docLink = document.createElement('div');\n",
              "        docLink.innerHTML = docLinkHtml;\n",
              "        element.appendChild(docLink);\n",
              "      }\n",
              "    </script>\n",
              "  </div>\n",
              "\n",
              "\n",
              "<div id=\"df-7c6c9c0b-0689-420d-9643-e56cb422b692\">\n",
              "  <button class=\"colab-df-quickchart\" onclick=\"quickchart('df-7c6c9c0b-0689-420d-9643-e56cb422b692')\"\n",
              "            title=\"Suggest charts\"\n",
              "            style=\"display:none;\">\n",
              "\n",
              "<svg xmlns=\"http://www.w3.org/2000/svg\" height=\"24px\"viewBox=\"0 0 24 24\"\n",
              "     width=\"24px\">\n",
              "    <g>\n",
              "        <path d=\"M19 3H5c-1.1 0-2 .9-2 2v14c0 1.1.9 2 2 2h14c1.1 0 2-.9 2-2V5c0-1.1-.9-2-2-2zM9 17H7v-7h2v7zm4 0h-2V7h2v10zm4 0h-2v-4h2v4z\"/>\n",
              "    </g>\n",
              "</svg>\n",
              "  </button>\n",
              "\n",
              "<style>\n",
              "  .colab-df-quickchart {\n",
              "      --bg-color: #E8F0FE;\n",
              "      --fill-color: #1967D2;\n",
              "      --hover-bg-color: #E2EBFA;\n",
              "      --hover-fill-color: #174EA6;\n",
              "      --disabled-fill-color: #AAA;\n",
              "      --disabled-bg-color: #DDD;\n",
              "  }\n",
              "\n",
              "  [theme=dark] .colab-df-quickchart {\n",
              "      --bg-color: #3B4455;\n",
              "      --fill-color: #D2E3FC;\n",
              "      --hover-bg-color: #434B5C;\n",
              "      --hover-fill-color: #FFFFFF;\n",
              "      --disabled-bg-color: #3B4455;\n",
              "      --disabled-fill-color: #666;\n",
              "  }\n",
              "\n",
              "  .colab-df-quickchart {\n",
              "    background-color: var(--bg-color);\n",
              "    border: none;\n",
              "    border-radius: 50%;\n",
              "    cursor: pointer;\n",
              "    display: none;\n",
              "    fill: var(--fill-color);\n",
              "    height: 32px;\n",
              "    padding: 0;\n",
              "    width: 32px;\n",
              "  }\n",
              "\n",
              "  .colab-df-quickchart:hover {\n",
              "    background-color: var(--hover-bg-color);\n",
              "    box-shadow: 0 1px 2px rgba(60, 64, 67, 0.3), 0 1px 3px 1px rgba(60, 64, 67, 0.15);\n",
              "    fill: var(--button-hover-fill-color);\n",
              "  }\n",
              "\n",
              "  .colab-df-quickchart-complete:disabled,\n",
              "  .colab-df-quickchart-complete:disabled:hover {\n",
              "    background-color: var(--disabled-bg-color);\n",
              "    fill: var(--disabled-fill-color);\n",
              "    box-shadow: none;\n",
              "  }\n",
              "\n",
              "  .colab-df-spinner {\n",
              "    border: 2px solid var(--fill-color);\n",
              "    border-color: transparent;\n",
              "    border-bottom-color: var(--fill-color);\n",
              "    animation:\n",
              "      spin 1s steps(1) infinite;\n",
              "  }\n",
              "\n",
              "  @keyframes spin {\n",
              "    0% {\n",
              "      border-color: transparent;\n",
              "      border-bottom-color: var(--fill-color);\n",
              "      border-left-color: var(--fill-color);\n",
              "    }\n",
              "    20% {\n",
              "      border-color: transparent;\n",
              "      border-left-color: var(--fill-color);\n",
              "      border-top-color: var(--fill-color);\n",
              "    }\n",
              "    30% {\n",
              "      border-color: transparent;\n",
              "      border-left-color: var(--fill-color);\n",
              "      border-top-color: var(--fill-color);\n",
              "      border-right-color: var(--fill-color);\n",
              "    }\n",
              "    40% {\n",
              "      border-color: transparent;\n",
              "      border-right-color: var(--fill-color);\n",
              "      border-top-color: var(--fill-color);\n",
              "    }\n",
              "    60% {\n",
              "      border-color: transparent;\n",
              "      border-right-color: var(--fill-color);\n",
              "    }\n",
              "    80% {\n",
              "      border-color: transparent;\n",
              "      border-right-color: var(--fill-color);\n",
              "      border-bottom-color: var(--fill-color);\n",
              "    }\n",
              "    90% {\n",
              "      border-color: transparent;\n",
              "      border-bottom-color: var(--fill-color);\n",
              "    }\n",
              "  }\n",
              "</style>\n",
              "\n",
              "  <script>\n",
              "    async function quickchart(key) {\n",
              "      const quickchartButtonEl =\n",
              "        document.querySelector('#' + key + ' button');\n",
              "      quickchartButtonEl.disabled = true;  // To prevent multiple clicks.\n",
              "      quickchartButtonEl.classList.add('colab-df-spinner');\n",
              "      try {\n",
              "        const charts = await google.colab.kernel.invokeFunction(\n",
              "            'suggestCharts', [key], {});\n",
              "      } catch (error) {\n",
              "        console.error('Error during call to suggestCharts:', error);\n",
              "      }\n",
              "      quickchartButtonEl.classList.remove('colab-df-spinner');\n",
              "      quickchartButtonEl.classList.add('colab-df-quickchart-complete');\n",
              "    }\n",
              "    (() => {\n",
              "      let quickchartButtonEl =\n",
              "        document.querySelector('#df-7c6c9c0b-0689-420d-9643-e56cb422b692 button');\n",
              "      quickchartButtonEl.style.display =\n",
              "        google.colab.kernel.accessAllowed ? 'block' : 'none';\n",
              "    })();\n",
              "  </script>\n",
              "</div>\n",
              "\n",
              "    </div>\n",
              "  </div>\n"
            ],
            "application/vnd.google.colaboratory.intrinsic+json": {
              "type": "dataframe",
              "summary": "{\n  \"name\": \"df\",\n  \"rows\": 8,\n  \"fields\": [\n    {\n      \"column\": \"book_id\",\n      \"properties\": {\n        \"dtype\": \"number\",\n        \"std\": 12195445.920755887,\n        \"min\": 420.0,\n        \"max\": 36232670.0,\n        \"num_unique_values\": 8,\n        \"samples\": [\n          11873292.226863047,\n          11193623.0,\n          4549.0\n        ],\n        \"semantic_type\": \"\",\n        \"description\": \"\"\n      }\n    },\n    {\n      \"column\": \"rating\",\n      \"properties\": {\n        \"dtype\": \"number\",\n        \"std\": 1607.2074086369698,\n        \"min\": 0.0,\n        \"max\": 4549.0,\n        \"num_unique_values\": 7,\n        \"samples\": [\n          4549.0,\n          3.6992745658386457,\n          4.0\n        ],\n        \"semantic_type\": \"\",\n        \"description\": \"\"\n      }\n    },\n    {\n      \"column\": \"n_votes\",\n      \"properties\": {\n        \"dtype\": \"number\",\n        \"std\": 1596.7903679926421,\n        \"min\": 0.0,\n        \"max\": 4549.0,\n        \"num_unique_values\": 6,\n        \"samples\": [\n          4549.0,\n          0.9173444713123764,\n          280.0\n        ],\n        \"semantic_type\": \"\",\n        \"description\": \"\"\n      }\n    },\n    {\n      \"column\": \"n_comments\",\n      \"properties\": {\n        \"dtype\": \"number\",\n        \"std\": 1606.1487579889372,\n        \"min\": 0.0,\n        \"max\": 4549.0,\n        \"num_unique_values\": 5,\n        \"samples\": [\n          0.20400087931413496,\n          43.0,\n          1.055692695684319\n        ],\n        \"semantic_type\": \"\",\n        \"description\": \"\"\n      }\n    }\n  ]\n}"
            }
          },
          "metadata": {},
          "execution_count": 14
        }
      ],
      "source": [
        "df.head()\n",
        "df.info()\n",
        "df.describe()"
      ]
    },
    {
      "cell_type": "code",
      "execution_count": 15,
      "metadata": {
        "id": "KNJRMg0Ux3_V"
      },
      "outputs": [],
      "source": [
        "df['average_rating'] = pd.to_numeric(df['average_rating'], errors='coerce')\n",
        "df['ratings_count'] = pd.to_numeric(df['ratings_count'], errors='coerce')"
      ]
    },
    {
      "cell_type": "code",
      "execution_count": 16,
      "metadata": {
        "colab": {
          "base_uri": "https://localhost:8080/"
        },
        "id": "REkfb_WDx5u0",
        "outputId": "14f6d1cb-d44d-410a-b5eb-edab9a52387d"
      },
      "outputs": [
        {
          "output_type": "stream",
          "name": "stdout",
          "text": [
            "<class 'pandas.core.frame.DataFrame'>\n",
            "RangeIndex: 4549 entries, 0 to 4548\n",
            "Data columns (total 39 columns):\n",
            " #   Column                Non-Null Count  Dtype  \n",
            "---  ------                --------------  -----  \n",
            " 0   user_id               4549 non-null   object \n",
            " 1   book_id               4549 non-null   int64  \n",
            " 2   review_id             4549 non-null   object \n",
            " 3   rating                4549 non-null   int64  \n",
            " 4   review_text           4549 non-null   object \n",
            " 5   date_added            4549 non-null   object \n",
            " 6   date_updated          4549 non-null   object \n",
            " 7   read_at               4549 non-null   object \n",
            " 8   started_at            4549 non-null   object \n",
            " 9   n_votes               4549 non-null   int64  \n",
            " 10  n_comments            4549 non-null   int64  \n",
            " 11  isbn                  4549 non-null   object \n",
            " 12  text_reviews_count    4549 non-null   object \n",
            " 13  series                4549 non-null   object \n",
            " 14  country_code          4549 non-null   object \n",
            " 15  language_code         4549 non-null   object \n",
            " 16  popular_shelves       4549 non-null   object \n",
            " 17  asin                  4549 non-null   object \n",
            " 18  is_ebook              4549 non-null   object \n",
            " 19  average_rating        4549 non-null   float64\n",
            " 20  kindle_asin           4549 non-null   object \n",
            " 21  similar_books         4549 non-null   object \n",
            " 22  description           4549 non-null   object \n",
            " 23  format                4549 non-null   object \n",
            " 24  link                  4549 non-null   object \n",
            " 25  authors               4549 non-null   object \n",
            " 26  publisher             4549 non-null   object \n",
            " 27  num_pages             4549 non-null   object \n",
            " 28  publication_day       4549 non-null   object \n",
            " 29  isbn13                4549 non-null   object \n",
            " 30  publication_month     4549 non-null   object \n",
            " 31  edition_information   4549 non-null   object \n",
            " 32  publication_year      4549 non-null   object \n",
            " 33  url                   4549 non-null   object \n",
            " 34  image_url             4549 non-null   object \n",
            " 35  ratings_count         4549 non-null   int64  \n",
            " 36  work_id               4549 non-null   object \n",
            " 37  title                 4549 non-null   object \n",
            " 38  title_without_series  4549 non-null   object \n",
            "dtypes: float64(1), int64(5), object(33)\n",
            "memory usage: 1.4+ MB\n"
          ]
        }
      ],
      "source": [
        "df.info()"
      ]
    },
    {
      "cell_type": "markdown",
      "source": [
        "###Valores Nulos"
      ],
      "metadata": {
        "id": "uG5wURSiDiDW"
      }
    },
    {
      "cell_type": "code",
      "source": [
        "# Análise de valores nulos\n",
        "print(\"\\nNúmero de valores nulos após o tratamento:\")\n",
        "print(df.isnull().sum())"
      ],
      "metadata": {
        "colab": {
          "base_uri": "https://localhost:8080/"
        },
        "id": "4Tx8F9caDmv4",
        "outputId": "a63cf475-e139-4c40-d78a-dee548af468c"
      },
      "execution_count": 51,
      "outputs": [
        {
          "output_type": "stream",
          "name": "stdout",
          "text": [
            "\n",
            "Número de valores nulos após o tratamento:\n",
            "user_id                 0\n",
            "book_id                 0\n",
            "review_id               0\n",
            "rating                  0\n",
            "review_text             0\n",
            "date_added              0\n",
            "date_updated            0\n",
            "read_at                 0\n",
            "started_at              0\n",
            "n_votes                 0\n",
            "n_comments              0\n",
            "isbn                    0\n",
            "text_reviews_count      0\n",
            "series                  0\n",
            "country_code            0\n",
            "language_code           0\n",
            "popular_shelves         0\n",
            "asin                    0\n",
            "is_ebook                0\n",
            "average_rating          0\n",
            "kindle_asin             0\n",
            "similar_books           0\n",
            "description             0\n",
            "format                  0\n",
            "link                    0\n",
            "authors                 0\n",
            "publisher               0\n",
            "num_pages               0\n",
            "publication_day         0\n",
            "isbn13                  0\n",
            "publication_month       0\n",
            "edition_information     0\n",
            "publication_year        0\n",
            "url                     0\n",
            "image_url               0\n",
            "ratings_count           0\n",
            "work_id                 0\n",
            "title                   0\n",
            "title_without_series    0\n",
            "authors_parsed          0\n",
            "author                  0\n",
            "genres                  0\n",
            "good_rating             0\n",
            "sentiment_polarity      0\n",
            "dtype: int64\n"
          ]
        }
      ]
    },
    {
      "cell_type": "code",
      "source": [
        "df['average_rating'] = df['average_rating'].fillna(df['average_rating'].mean())\n",
        "df['ratings_count'] = df['ratings_count'].fillna(0)\n",
        "df['text_reviews_count'] = df['text_reviews_count'].fillna(0)\n",
        "df['popular_shelves'] = df['popular_shelves'].fillna('[]')\n",
        "df['authors'] = df['authors'].fillna('[]')"
      ],
      "metadata": {
        "id": "0wo6QZjtDhLm"
      },
      "execution_count": 54,
      "outputs": []
    },
    {
      "cell_type": "code",
      "source": [
        "# Verificar e remover duplicatas\n",
        "num_duplicatas = df.duplicated(subset=['user_id', 'book_id']).sum()\n",
        "print(f\"Número de registros duplicados (baseado em user_id e book_id): {num_duplicatas}\")"
      ],
      "metadata": {
        "colab": {
          "base_uri": "https://localhost:8080/"
        },
        "id": "8hSooiKMD-6H",
        "outputId": "f5b51998-aa51-4cd4-e9e7-219b018599d6"
      },
      "execution_count": 57,
      "outputs": [
        {
          "output_type": "stream",
          "name": "stdout",
          "text": [
            "Número de registros duplicados (baseado em user_id e book_id): 0\n"
          ]
        }
      ]
    },
    {
      "cell_type": "code",
      "source": [
        "if num_duplicatas > 0:\n",
        "    df = df.drop_duplicates(subset=['user_id', 'book_id'])\n",
        "    print(\"Duplicatas removidas.\")\n",
        "else:\n",
        "    print(\"Nenhuma duplicata encontrada com base em user_id e book_id.\")"
      ],
      "metadata": {
        "colab": {
          "base_uri": "https://localhost:8080/"
        },
        "id": "J9-YJZVhEkLo",
        "outputId": "a8a7cf42-05db-4155-da5d-bd00b04c3cb0"
      },
      "execution_count": 58,
      "outputs": [
        {
          "output_type": "stream",
          "name": "stdout",
          "text": [
            "Nenhuma duplicata encontrada com base em user_id e book_id.\n"
          ]
        }
      ]
    }
  ],
  "metadata": {
    "accelerator": "GPU",
    "colab": {
      "collapsed_sections": [
        "UjWcToN2YyGk",
        "Q0LGaSAsY8R8",
        "_TKHBjnoDeU8"
      ],
      "gpuType": "T4",
      "provenance": [],
      "authorship_tag": "ABX9TyN9Lynp+AY2446haksfhEVg",
      "include_colab_link": true
    },
    "kernelspec": {
      "display_name": "Python 3",
      "name": "python3"
    },
    "language_info": {
      "name": "python"
    }
  },
  "nbformat": 4,
  "nbformat_minor": 0
}